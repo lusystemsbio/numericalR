{
 "cells": [
  {
   "cell_type": "markdown",
   "id": "560344f3-2a71-4262-acd6-237c9f0b1fae",
   "metadata": {},
   "source": [
    "# 01B. Efficient Programming in Python\n",
    "\n",
    "### Mingyang Lu\n",
    "\n",
    "### 12/16/2023\n",
    "\n",
    "## Avoid growing vectors"
   ]
  },
  {
   "cell_type": "markdown",
   "id": "c35069a6-eabc-4908-a6e4-102981d9e2b8",
   "metadata": {},
   "source": [
    "The following code is extremely slow for large n."
   ]
  },
  {
   "cell_type": "code",
   "execution_count": 1,
   "id": "8969e475-1b39-40e5-aa39-b2a10510a467",
   "metadata": {},
   "outputs": [
    {
     "name": "stdout",
     "output_type": "stream",
     "text": [
      "[1, 4, 9, 16, 25, 36, 49, 64, 81, 100]\n"
     ]
    }
   ],
   "source": [
    "# Set the value of n to 10\n",
    "n = 10\n",
    "\n",
    "# Create an empty list v\n",
    "v = []\n",
    "\n",
    "# Use a for loop to iterate from 1 to n\n",
    "for i in range(1, n+1):\n",
    "    # Append the square of i to list v\n",
    "    v.append(i**2)\n",
    "\n",
    "# Print the resulting list v\n",
    "print(v)"
   ]
  },
  {
   "cell_type": "markdown",
   "id": "1ca9938c-58be-4fb9-98a3-67f7a47ba19e",
   "metadata": {},
   "source": [
    "A better way creates an array of final length first."
   ]
  },
  {
   "cell_type": "code",
   "execution_count": 2,
   "id": "1d901678-279c-4929-83ff-63830f2544c3",
   "metadata": {},
   "outputs": [
    {
     "name": "stdout",
     "output_type": "stream",
     "text": [
      "[  1.   4.   9.  16.  25.  36.  49.  64.  81. 100.]\n"
     ]
    }
   ],
   "source": [
    "# Import the numpy library to create numeric arrays\n",
    "import numpy as np\n",
    "\n",
    "# Set the value of n to 10\n",
    "n = 10\n",
    "\n",
    "# Create a numeric array v filled with zeros\n",
    "v = np.zeros(n)\n",
    "\n",
    "# Use a for loop to iterate from 1 to n\n",
    "for i in range(1, n+1):\n",
    "    # Assign the square of i to the corresponding element in the array v\n",
    "    v[i-1] = i**2\n",
    "\n",
    "# Print the resulting numeric array v\n",
    "print(v)"
   ]
  },
  {
   "cell_type": "markdown",
   "id": "0c21838e-4efe-4ef5-a0c1-02d7de0c9a91",
   "metadata": {},
   "source": [
    "## Vectorize codes\n",
    "An even better approach is the following. It uses vector operations instead."
   ]
  },
  {
   "cell_type": "code",
   "execution_count": 3,
   "id": "0c2c4074-0bc0-4a87-b033-d68872ff6596",
   "metadata": {},
   "outputs": [
    {
     "name": "stdout",
     "output_type": "stream",
     "text": [
      "[  1   4   9  16  25  36  49  64  81 100]\n"
     ]
    }
   ],
   "source": [
    "import numpy as np\n",
    "\n",
    "n = 10\n",
    "\n",
    "# Generate a sequence from 1 to n using NumPy\n",
    "v = np.arange(1, n+1)\n",
    "\n",
    "# Square each element in the array v\n",
    "v = v ** 2\n",
    "\n",
    "# Print the resulting array v\n",
    "print(v)"
   ]
  },
  {
   "cell_type": "markdown",
   "id": "6aaaee42-6275-450d-b440-e603f8345624",
   "metadata": {},
   "source": [
    "Iteration, e.g., using a For Loop, is very slow in Python. For example, the following code calculates the mean and standard deviation (SD) of a series of numbers."
   ]
  },
  {
   "cell_type": "code",
   "execution_count": 4,
   "id": "f66378d7-5962-4bc9-9c0e-d0c9e86110a6",
   "metadata": {},
   "outputs": [
    {
     "name": "stdout",
     "output_type": "stream",
     "text": [
      "50.5 28.86607004772212\n"
     ]
    }
   ],
   "source": [
    "# Iterations with a for loop\n",
    "import math\n",
    "\n",
    "# Initialize variables\n",
    "my_sum = 0\n",
    "my_sum2 = 0\n",
    "num = 100\n",
    "\n",
    "# Loop through a range from 1 to num\n",
    "for i in range(1, num + 1):\n",
    "    my_sum += i\n",
    "    my_sum2 += i**2\n",
    "\n",
    "# Calculate mean and standard deviation\n",
    "my_mean = my_sum / num\n",
    "my_sd = math.sqrt(my_sum2 / num - my_mean**2)\n",
    "\n",
    "# Print the mean and standard deviation\n",
    "print(my_mean, my_sd)"
   ]
  },
  {
   "cell_type": "markdown",
   "id": "ab7b1132-bc40-47c5-ada5-c574855f2775",
   "metadata": {},
   "source": [
    "While the above code is typical for C or Fortran, a better approach for Python is to use vector operations."
   ]
  },
  {
   "cell_type": "code",
   "execution_count": 5,
   "id": "2db45a68-4f3b-4888-8b4c-0794dfd0370e",
   "metadata": {},
   "outputs": [
    {
     "name": "stdout",
     "output_type": "stream",
     "text": [
      "50.5 28.86607004772212\n"
     ]
    }
   ],
   "source": [
    "# Vectorization\n",
    "import numpy as np\n",
    "\n",
    "# Define num\n",
    "num = 100\n",
    "\n",
    "# Create a sequence from 1 to num\n",
    "v = np.arange(1, num + 1)\n",
    "\n",
    "# Calculate mean, mean square, and standard deviation\n",
    "my_mean = np.mean(v)\n",
    "my_mean_square = np.mean(v**2)\n",
    "my_sd = np.sqrt(my_mean_square - my_mean**2)\n",
    "\n",
    "# Print the mean and standard deviation\n",
    "print(my_mean, my_sd)"
   ]
  },
  {
   "cell_type": "markdown",
   "id": "08f7af6c-ade8-4174-80fa-c269216123f1",
   "metadata": {},
   "source": [
    "Another way is to use Pandas Series and Apply function to apply a math operation to each element."
   ]
  },
  {
   "cell_type": "code",
   "execution_count": 6,
   "id": "483fb1a1-6026-4881-9940-52da46b1b350",
   "metadata": {},
   "outputs": [
    {
     "name": "stdout",
     "output_type": "stream",
     "text": [
      "50.5 28.86607004772212\n"
     ]
    }
   ],
   "source": [
    "# Apply\n",
    "import pandas as pd\n",
    "# Define num\n",
    "num = 100\n",
    "\n",
    "# Create a sequence from 1 to num\n",
    "v = np.arange(1, num + 1)\n",
    "\n",
    "# Convert the NumPy array to a Pandas Series\n",
    "v_series = pd.Series(v)\n",
    "\n",
    "# Calculate mean, mean square, and standard deviation using apply\n",
    "my_mean = v_series.mean()\n",
    "my_mean_square = v_series.apply(lambda x: x**2).mean()\n",
    "my_sd = np.sqrt(my_mean_square - my_mean**2)\n",
    "\n",
    "print(my_mean, my_sd)"
   ]
  },
  {
   "cell_type": "markdown",
   "id": "f2dd34df-25be-48dd-8535-0cc3486eab7b",
   "metadata": {},
   "source": [
    "Apply can also be used to perform operations for columns (or rows) of a matrix."
   ]
  },
  {
   "cell_type": "code",
   "execution_count": 7,
   "id": "3bd1a105-25d7-4ebf-83cb-907624535f0f",
   "metadata": {},
   "outputs": [
    {
     "name": "stdout",
     "output_type": "stream",
     "text": [
      "0    0.519095\n",
      "1    0.643977\n",
      "2    0.662455\n",
      "3    0.507251\n",
      "dtype: float64\n"
     ]
    }
   ],
   "source": [
    "import numpy as np\n",
    "import pandas as pd\n",
    "\n",
    "# Generate a random matrix of size 4x4\n",
    "mat = np.random.normal(size=(4, 4))\n",
    "\n",
    "# Convert the matrix to a DataFrame\n",
    "df = pd.DataFrame(mat)\n",
    "\n",
    "# Calculate means, means square, and standard deviations using apply\n",
    "means = df.apply(np.mean, axis=0)\n",
    "means2 = df.apply(lambda col: np.mean(col**2), axis=0)\n",
    "sd = np.sqrt(means2 - means**2)\n",
    "\n",
    "# Print the standard deviations\n",
    "print(sd)"
   ]
  },
  {
   "cell_type": "markdown",
   "id": "8815cba7-81e4-4122-9b42-23eebd854aff",
   "metadata": {},
   "source": [
    "## Performance evaluation"
   ]
  },
  {
   "cell_type": "code",
   "execution_count": 8,
   "id": "f66dcfc5-40a9-47b9-a649-a328e709c5ed",
   "metadata": {},
   "outputs": [
    {
     "name": "stdout",
     "output_type": "stream",
     "text": [
      "1.03 ms ± 27 µs per loop (mean ± std. dev. of 7 runs, 1,000 loops each)\n",
      "50.6 µs ± 10.9 µs per loop (mean ± std. dev. of 7 runs, 10,000 loops each)\n",
      "2.93 ms ± 136 µs per loop (mean ± std. dev. of 7 runs, 100 loops each)\n"
     ]
    }
   ],
   "source": [
    "import numpy as np\n",
    "import pandas as pd\n",
    "\n",
    "# function using for loop\n",
    "def f1(num):\n",
    "    my_sum = 0\n",
    "    my_sum2 = 0\n",
    "\n",
    "    for i in range(1, num + 1):\n",
    "        my_sum += i\n",
    "        my_sum2 += i**2\n",
    "\n",
    "    my_mean = my_sum / num\n",
    "    my_sd = math.sqrt(my_sum2 / num - my_mean**2)\n",
    "    return [my_mean, my_sd]\n",
    "\n",
    "# function using vectorization\n",
    "def f2(num):\n",
    "    v = np.arange(1, num + 1)\n",
    "\n",
    "    my_mean = np.mean(v)\n",
    "    my_variance = np.mean(v**2)\n",
    "    my_sd = np.sqrt(my_variance - my_mean**2)\n",
    "    return [my_mean, my_sd]\n",
    "\n",
    "# function using apply\n",
    "def f3(num):\n",
    "    v = np.arange(1, num + 1)\n",
    "    \n",
    "    v_series = pd.Series(v)\n",
    "    my_mean = v_series.mean()\n",
    "    my_variance = v_series.apply(lambda x: x**2).mean()\n",
    "    my_sd = np.sqrt(my_variance - my_mean**2)\n",
    "    return [my_mean, my_sd]\n",
    "\n",
    "%timeit f1(10000)\n",
    "%timeit f2(10000)\n",
    "%timeit f3(10000)"
   ]
  },
  {
   "cell_type": "markdown",
   "id": "0338d0e0-01f4-4017-9af7-e07903c7b85b",
   "metadata": {},
   "source": [
    "Typically, a For Loop is easy to unerstand, but slow for large datasets due to the interpreted nature of Python. Vectorization (using Numpy) is efficient for numerical opterations on large datasets, but may not be as intuititve for complex operations. Apply (using Pandas) is convenient for applying a function along row or colun of a DataFrame/Series, but may be slower than vectorized operations."
   ]
  }
 ],
 "metadata": {
  "kernelspec": {
   "display_name": "Python 3 (ipykernel)",
   "language": "python",
   "name": "python3"
  },
  "language_info": {
   "codemirror_mode": {
    "name": "ipython",
    "version": 3
   },
   "file_extension": ".py",
   "mimetype": "text/x-python",
   "name": "python",
   "nbconvert_exporter": "python",
   "pygments_lexer": "ipython3",
   "version": "3.12.2"
  }
 },
 "nbformat": 4,
 "nbformat_minor": 5
}
